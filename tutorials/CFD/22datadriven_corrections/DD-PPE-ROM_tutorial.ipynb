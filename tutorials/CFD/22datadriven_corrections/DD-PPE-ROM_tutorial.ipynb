{
 "cells": [
  {
   "cell_type": "markdown",
   "id": "3ebe03bf",
   "metadata": {},
   "source": [
    "# Tutorial 22: Data-driven corrections in PPE-ROM"
   ]
  },
  {
   "cell_type": "markdown",
   "id": "eb4ac70b",
   "metadata": {},
   "source": [
    "In this tutorial, new data-driven corrections are introduced in the pressure Poisson formulation.\n",
    "The case considered is the flux around a circular cylinder."
   ]
  },
  {
   "cell_type": "markdown",
   "id": "49985153",
   "metadata": {},
   "source": [
    "## Data collection: offline stage"
   ]
  },
  {
   "cell_type": "markdown",
   "id": "ad01213b",
   "metadata": {},
   "source": [
    "The first step is to run the Openfoam simulation and to find the POD modes for velocity, supremizer and pressure fields. In this case we consider the supremizer formulation, so run on terminal: *offline 'poisson'*.\n",
    "\n",
    "In this way the folder 'ITHACAoutput' is created. Snapshots data are collected in 'ITHACAoutput/Offline'. The matrices used to assemble the reduced systems are stored in 'ITHACAoutput/Matrices'. The POD modes for velocity and pressure are stored in 'ITHACAoutput/POD'."
   ]
  },
  {
   "cell_type": "markdown",
   "id": "f0e1d265",
   "metadata": {},
   "source": [
    "## Definition of the PPE-ROM dynamical system: online stage"
   ]
  },
  {
   "cell_type": "markdown",
   "id": "f3a0d267",
   "metadata": {},
   "source": [
    "We import useful modules:"
   ]
  },
  {
   "cell_type": "code",
   "execution_count": 1,
   "id": "321c728a",
   "metadata": {},
   "outputs": [],
   "source": [
    "import numpy as np\n",
    "import torch\n",
    "from torch import nn\n",
    "import matplotlib\n",
    "import matplotlib.pyplot as plt\n",
    "import os\n",
    "from DD_PPE_ROM import PPE_ROM\n",
    "from sklearn import *"
   ]
  },
  {
   "cell_type": "markdown",
   "id": "d6a0137d",
   "metadata": {},
   "source": [
    "The reference folder from which data is extracted is also defined."
   ]
  },
  {
   "cell_type": "code",
   "execution_count": 3,
   "id": "262a3386",
   "metadata": {},
   "outputs": [],
   "source": [
    "folder = './ITHACAoutput'"
   ]
  },
  {
   "cell_type": "markdown",
   "id": "d971dad1",
   "metadata": {},
   "source": [
    "Now the PPE_ROM class is used to define the different dynamical systems which should be solved and compared in the online phase.\n",
    "\n",
    "We here choose a reduced number of velocity and pressure modes ($N_u$ and $N_p$, respectively) for the reduced model. The modes are denoted as: $(\\boldsymbol{\\phi_i})_{i=1}^{N_u}$ and $(\\chi_i)_{i=1}^{N_p}$. $N_{sup}$ is set to 0 for the Poisson approach."
   ]
  },
  {
   "cell_type": "code",
   "execution_count": null,
   "id": "c0ece109",
   "metadata": {},
   "outputs": [],
   "source": [
    "Nu = 5\n",
    "Nsup = 0\n",
    "Np = 5\n",
    "Nnut = 5\n",
    "nu = 1e-4  #viscosity"
   ]
  },
  {
   "cell_type": "markdown",
   "id": "e3f5c32e",
   "metadata": {},
   "source": [
    "The reduced approximated fields are computed at each time step by solving a dynamical system with unknowns $\\mathbf{a}=(a_i)_{i=1}^{N_u}$ and $\\mathbf{b}=(b_i)_{i=1}^{N_p}$, which are the vectors of coefficients for velocity and pressure. The reduced approximated fields are defined as:\n",
    "\\begin{equation}\n",
    "\\mathbf{u}_r = \\sum_{i=1}^{N_u} a_i(t) \\boldsymbol{\\phi_i} \\text{ and } \\bar{p}_r = \\sum_{i=1}^{N_u} b_i(t) \\chi_i\n",
    "\\end{equation}\n",
    "\n",
    "The standard PPE reduced system (without any correction term and without turbulence modelling), obtained with a POD-Galerkin approach, is the following:\n",
    "\\begin{equation}\n",
    "    \\begin{cases}\n",
    "    \\mathbf{M} \\dot{\\mathbf{a}}=\\nu(\\mathbf{B}+\\mathbf{B_T})\\mathbf{a}-\\mathbf{a}^T \\mathbf{C} \\mathbf{a}-\\mathbf{H}\\mathbf{b}+\\tau \\left( \\sum_{k=1}^{N_{\\text{BC}}}(U_{\\text{BC},k}\\mathbf{D}^k-\\mathbf{E}^k \\mathbf{a})\\right),\\\\\n",
    "    \\mathbf{D}\\mathbf{b} + \\mathbf{a}^T \\mathbf{G} \\mathbf{a} -\\nu \\mathbf{N} \\mathbf{a} -\\mathbf{L} =\\mathbf{0}.\n",
    "    \\end{cases}\n",
    "\\end{equation}\n",
    "\n",
    "Matrices appearing in the previous system are defined as:\n",
    "\\begin{equation}\n",
    "\\begin{split}\n",
    "&(\\mathbf{M})_{ij}=(\\boldsymbol{\\phi}_i,\\boldsymbol{\\phi}_j)_{L^2(\\Omega)}, \\quad (\\mathbf{B})_{ij}=(\\boldsymbol{\\phi}_i,\\nabla \\cdot \\nabla \\boldsymbol{\\phi}_j)_{L^2(\\Omega)}, \\\\\n",
    "&(\\mathbf{B_T})_{ij}=(\\boldsymbol{\\phi}_i,\\nabla \\cdot (\\nabla \\boldsymbol{\\phi}_j)^T)_{L^2(\\Omega)},\\quad (\\mathbf{C})_{ijk}=(\\boldsymbol{\\phi}_i,\\nabla \\cdot (\\boldsymbol{\\phi}_j \\otimes \\boldsymbol{\\phi}_k))_{L^2(\\Omega)}, \\quad (\\mathbf{H})_{ij}=(\\boldsymbol{\\phi}_i,\\nabla \\chi_j)_{L^2(\\Omega)}\\,, \\\\\n",
    "&(\\mathbf{D})_{ij}=(\\nabla \\chi_i,\\nabla \\chi_j)_{L^2(\\Omega)}, \\quad \n",
    "(\\mathbf{G})_{ijk}=(\\nabla \\chi_i,\\nabla \\cdot (\\boldsymbol{\\phi}_j \\otimes \\boldsymbol{\\phi}_k))_{L^2(\\Omega)}, \\\\ &(\\mathbf{N})_{ij}=(\\mathbf{n} \\times \\nabla \\chi_i,\\nabla \\boldsymbol{\\phi}_j)_{\\Gamma}, \\quad (\\mathbf{L})_{ij}=(\\chi_i,\\mathbf{n} \\cdot \\boldsymbol{R}_t)_{\\Gamma}\\, .\n",
    "\\end{split}\n",
    "\\end{equation}\n",
    "\n",
    "The term $\\tau \\left( \\sum_{k=1}^{N_{\\text{BC}}}(U_{\\text{BC},k}\\mathbf{D}^k-\\mathbf{E}^k \\mathbf{a})\\right)$ is a penalization term used to enforce the Dirichlet boundary conditions at the reduced order level. In particular, $N_{\\text{BC}}$ is the number of velocity boundary conditions on $k $ different parts of the Dirichlet boundary; $U_{\\text{BC},k}$ is the velocity non-zero component at the $k$-th part of the Dirichlet boundary; $\\tau$ is a penalization factor, matrices $\\mathbf{E}^k$ and vectors $\\mathbf{D}^k$ are defined as:\n",
    "\\begin{equation} (\\mathbf{E}^k)_{ij}=(\\boldsymbol{\\phi}_i, \\boldsymbol{\\phi}_j)_{L^2(\\Gamma_{D_k})}, \\quad (\\mathbf{D}^k)_{i}=(\\boldsymbol{\\phi}_i)_{\\Gamma_{D_k}}, \\text{ for all }k=1,...,N_{\\text{BC}}.\\end{equation}\n",
    "\n",
    "The time derivative is computed with a second order backward time scheme.\n",
    "\n",
    "This system is solved at each time step, lasting 0.004 seconds, for 501 time steps, for a global online computational time of 2 seconds."
   ]
  },
  {
   "cell_type": "code",
   "execution_count": null,
   "id": "e0a9eb03",
   "metadata": {},
   "outputs": [],
   "source": [
    "ROM_case_stand = PPE_ROM(folder, Nu, Nsup, Np, 0, 0)\n",
    "ROM_case_stand.solveOnline_standard(0.004,501)"
   ]
  },
  {
   "cell_type": "markdown",
   "id": "d094ac5c",
   "metadata": {},
   "source": [
    "The projections of the full order fields onto the subspace generated by these modes are:\n",
    "\n",
    "\\begin{equation}\n",
    "\\mathbf{\\bar{u}}_r = \\sum_{i=1}^{N_u} a^{snap}_i \\boldsymbol{\\phi_i} \\text{ and } \\bar{p}_r = \\sum_{i=1}^{N_u} b^{snap}_i \\chi_i,\n",
    "\\end{equation}\n",
    "where the matrices of the coefficients $a^{snap}_i$ and $b^{snap}_i$ are evaluated from the POD and stored in the snapshots matrices *snapU* and *snapP*.\n",
    "\n",
    "*U_proj* and *P_proj* compute the reconstruction percentage errors, which are defined as the errors of the projected fields and the full order solutions and represent the best possible result that can be achieved."
   ]
  },
  {
   "cell_type": "code",
   "execution_count": null,
   "id": "99fd603f",
   "metadata": {},
   "outputs": [],
   "source": [
    "U_err_proj = ROM_case_stand.U_proj()\n",
    "P_err_proj = ROM_case_stand.P_proj()"
   ]
  },
  {
   "cell_type": "markdown",
   "id": "be067a97",
   "metadata": {},
   "source": [
    "When extra correction terms are considered in the previous system, we obtain the following formulation:\n",
    "\\begin{equation}\n",
    "\\begin{cases}\n",
    "    &\\mathbf{M}\\dot{\\mathbf{a}} = \\nu (\\mathbf{B}+\\mathbf{B_T}) \\mathbf{a} - \\mathbf{a}^T \\mathbf{C} \\mathbf{a}  - \\mathbf{H} \\mathbf{b}+\\tau \\left( \\sum_{k=1}^{N_{\\text{BC}}}(U_{\\text{BC},k}\\mathbf{D}^k-\\mathbf{E}^k \\mathbf{a})\\right) + \\boldsymbol{\\tau}^u(\\mathbf{a}) \\, ,\\\\\n",
    "    &\\mathbf{D}\\mathbf{b}+ \\mathbf{a}^T \\mathbf{G} \\mathbf{a}  - \\nu \\mathbf{N} \\mathbf{a}- \\mathbf{L} + \\boldsymbol{\\tau}^p(\\mathbf{a}, \\mathbf{b})=\\mathbf{0}, \n",
    "    \\end{cases}\n",
    "\\end{equation}"
   ]
  },
  {
   "cell_type": "markdown",
   "id": "fa96f7d1",
   "metadata": {},
   "source": [
    "In the first equation the term $\\boldsymbol{\\tau^u}(\\mathbf{a}, \\mathbf{b})$ is a velocity correction term and the term $\\boldsymbol{\\tau^p}(\\mathbf{a}, \\mathbf{b})$ is a pressure correction term introduced to improve the results in terms of pressure accuracy. In this tutorial the two terms are evaluated by solving a unique least squares problem. \n",
    "\n",
    "1. First of all, the exact correction term is found from available data, at each time step:\n",
    "\n",
    "The exact term is:\n",
    "\n",
    "\\begin{equation}\n",
    "    \\boldsymbol{\\tau}_{\\text{tot}}^{\\text{exact}}(t_j) = \\left(\\boldsymbol{\\tau}_u^{\\text{exact}}(t_j),\\boldsymbol{\\tau}_p^{\\text{exact}}(t_j)\\right) \\, \\forall j=1,...,M\\,.\n",
    "\\end{equation}\n",
    "\n",
    "The exact correction term corresponding to $\\boldsymbol{\\tau}_p$ includes the contribution of two different terms:\n",
    "\\begin{equation}\n",
    "\\begin{split}\n",
    " &\\boldsymbol{\\tau}_p^{\\text{exact}}(t_j)= \\boldsymbol{\\tau}_D^{\\text{exact}}(t_j)+\\boldsymbol{\\tau}_G^{\\text{exact}}(t_j) =\\\\&= \\left( \\overline{\\mathbf{D_d}\\mathbf{b}_d^{\\text{snap}}(t_j)}^q \\right)-\\mathbf{D} \\mathbf{b}_q^{\\text{snap}}(t_j)+ \\overline{(\\mathbf{a}_d^{\\text{snap}}(t_j))^T \\mathbf{G_d} \\mathbf{a}_d^{\\text{snap}}(t_j)}^r -(\\mathbf{a}_r^{\\text{snap}}(t_j))^T\\mathbf{G} \\mathbf{a}_r^{\\text{snap}}(t_j)\\, ,   \n",
    "\\end{split}\n",
    "\\end{equation}\n",
    "\n",
    "where matrix $\\mathbf{D_d}$ and tensor $\\mathbf{G_d}$ are defined as follows:\n",
    "\n",
    "\\begin{equation}\n",
    "\\mathbf{D_d}_{ij}=(\\nabla \\chi_i,\\nabla \\chi_j), \\quad \\mathbf{G_d}_{ijk} = (\\nabla \\chi_i, \\nabla \\cdot (\\boldsymbol{\\phi}_j \\otimes \\boldsymbol{\\phi}_k)), \\, i,j,k = 1,\\ldots ,d\\, .\n",
    "\\end{equation}\n",
    "\n",
    "2. Then, an ansatz is proposed to model the approximated correction term:\n",
    "\n",
    "\\begin{equation}\n",
    "    \\boldsymbol{\\tau}_{\\text{tot}}^{\\text{ansatz}}(t_j)=\\tilde{J}_A \\mathbf{ab}^{\\text{snap}} (t_j)+ (\\mathbf{ab}^{\\text{snap}} (t_j))^T \\tilde{J}_B \\mathbf{ab}^{\\text{snap}} (t_j)\\,,\n",
    "\\end{equation}\n",
    "\n",
    "where matrices $\\tilde{J}_A \\in \\mathbb{R}^{(r+q) \\times (r+q)}$ and $\\tilde{J}_B \\in \\mathbb{R}^{(r+q) \\times (r+q) \\times (r+q=}$ and vector $\\mathbf{ab}^{\\text{snap}} (t_j)=(\\mathbf{a}_r^{\\text{snap}} (t_j), \\mathbf{b}_q^{\\text{snap}} (t_j))$ $\\in \\mathbb{R}^{r+q}$. \n",
    "The unknowns computed by solving the optimization problem are $\\tilde{J}_A$ and $\\tilde{J}_B$.\n",
    "\n",
    "The final correction which is inserted in the reduced system is divided in two vectors:\n",
    "\\begin{equation}\n",
    "\\tilde{J}_A \\mathbf{ab} + \\mathbf{ab}^T \\tilde{J}_B \\mathbf{ab}=\\left( \\boldsymbol{\\tau}^u, \\boldsymbol{\\tau}^p\\right) \\text{ where }\\boldsymbol{\\tau}^u \\in \\mathbb{R}^{N_u}, \\boldsymbol{\\tau}^p \\in \\mathbb{R}^{N_p}\\,.\n",
    "\\end{equation}\n",
    "\n",
    "3. The matrices and tensors appearing in the ansatz are computed by solving an optimization problem, which is rewritten as a least squares problem between the exact and the approximated term. \n",
    "\n",
    "\\begin{equation}\n",
    "    \\min_{\\substack{\\tilde{J}_A \\in \\mathbb{R}^{r_{\\text{tot}} \\times r_{\\text{tot}}}; \\\\ \\tilde{J}_B \\in \\mathbb{R}^{r_{\\text{tot}} \\times r_{\\text{tot}} \\times r_{\\text{tot}}}}}{\\sum_{j=1}^M || \\boldsymbol{\\tau}_{\\text{tot}}^{\\text{exact}}(t_j)-\\boldsymbol{\\tau}_{\\text{tot}}^{\\text{ansatz}}(t_j)||_{L^2(\\Omega)}^2}\\,.\n",
    "\\end{equation}\n",
    "\n",
    "Passages to write the least squares problem are similar to tutorial DD-SUP-ROM_tutorial, but in this case the number of singular values $Ru$ for the matrix is the one that minimizes the error metric for pressure $\\varepsilon_p(L^2)$, defined as:\n",
    "\n",
    "\\begin{equation}\n",
    "    \\varepsilon_p (L^2)= \\sum_{j=1}^M ||p_{\\text{sol}}(t_j)-p_r(t_j)||_{L^2(\\Omega)} ,\n",
    "\\end{equation}\n",
    "\n",
    "where $M$ is the number of time steps considered for the online simulation (2000 in our case, which corresponds to 8 seconds).\n",
    "\n",
    "It is important to remark that the number of time steps used to compute the correction terms is 500 (2 seconds), whereas the online simulation lasts 5001 time steps (8 seconds). "
   ]
  },
  {
   "cell_type": "code",
   "execution_count": null,
   "id": "4304dfdd",
   "metadata": {},
   "outputs": [],
   "source": [
    "Ru = 7\n",
    "ROM_case = PPE_ROM(folder, Nu, Nsup, Np, 0, Ru)\n",
    "ROM_case.solveOnline(0.004,501)"
   ]
  },
  {
   "cell_type": "markdown",
   "id": "ff98d5ab",
   "metadata": {},
   "source": [
    "Now the formulation including the turbulence modelling is defined.\n",
    "In this formulation, there is an extra-term depending on the eddy viscosity $\\nu_t$, which is modelled as a linear combination of eddy viscosity modes $(\\eta_i)_{i=1}^{N_{\\nu_t}}$. The reduced eddy viscosity field is expressed as:\n",
    "\n",
    "\\begin{equation}\n",
    "\\nu_{t, r} = \\sum_{i=1}^{N_{\\nu_t}} g_i(t) \\eta_i\n",
    "\\end{equation}\n",
    "\n",
    "The reduced number of modes chosen for the eddy viscosity is the same of the velocity modes in our case ($N_{\\nu_t}=N_u$). \n",
    "\n",
    "The reduced vector of coefficients $\\mathbf{g}=(g_i)_{i=1}^{N_{\\nu_t}}$ is computed at each time step with a regression technique starting from vector $\\mathbf{a}$. \n",
    "In this case, $\\mathbf{g}$ is computed making use of a feed-forward neural network, which is trained with the pairs of snapshots $(\\mathbf{a}^{snap}, \\mathbf{g}^{snap})$.\n",
    "\n",
    "The reduced system written before can be rewritten in the following way:\n",
    "When extra correction terms are considered in the previous system, we obtain the following formulation:\n",
    "\\begin{equation}\n",
    "\\begin{cases}\n",
    "    &\\mathbf{M}\\dot{\\mathbf{a}} = \\nu (\\mathbf{B}+\\mathbf{B_T}) \\mathbf{a} - \\mathbf{a}^T \\mathbf{C} \\mathbf{a} + \\mathbf{g}^T (\\mathbf{C}_{\\text{T1}}+\\mathbf{C}_{\\text{T2}}) \\mathbf{a} - \\mathbf{H} \\mathbf{b}+\\tau \\left( \\sum_{k=1}^{N_{\\text{BC}}}(U_{\\text{BC},k}\\mathbf{D}^k-\\mathbf{E}^k \\mathbf{a})\\right) + \\boldsymbol{\\tau}^u(\\mathbf{a}) \\, ,\\\\\n",
    "    &\\mathbf{D}\\mathbf{b}+ \\mathbf{a}^T \\mathbf{G} \\mathbf{a} -\\mathbf{g}^T(\\mathbf{C}_{\\text{T3\n",
    "    }} +\\mathbf{C}_{\\text{T4\n",
    "    }})\\mathbf{a} - \\nu \\mathbf{N} \\mathbf{a}- \\mathbf{L} + \\boldsymbol{\\tau}^p(\\mathbf{a}, \\mathbf{b})=\\mathbf{0}, \n",
    "    \\end{cases}\n",
    "\\end{equation}\n",
    "where the new tensors are defined as follows.\n",
    "\\begin{equation}\n",
    "    \\begin{cases}\n",
    "    &(\\mathbf{C}_{\\text{T1}})_{ijk}=(\\boldsymbol{\\phi}_i, \\eta_j \\nabla \\cdot \\nabla \\boldsymbol{\\phi}_k)_{L^2(\\Omega)} \\, ,\\\\\n",
    "    &(\\mathbf{C}_{\\text{T2}})_{ijk}=(\\boldsymbol{\\phi}_i, \\nabla \\cdot \\eta_j (\\nabla \\boldsymbol{\\phi}_k)^T)_{L^2(\\Omega)}\\, , \\\\\n",
    "    & (\\mathbf{C}_{\\text{T3}})_{ijk}=(\\nabla \\chi_i, \\eta_j \\nabla \\cdot \\nabla \\boldsymbol{\\phi}_k)_{L^2(\\Omega)}\\, , \\\\ &(\\mathbf{C}_{\\text{T4}})_{ijk}=(\\nabla \\chi_i, \\nabla \\cdot \\eta_j(\\nabla \\boldsymbol{\\phi}_k)^T)_{L^2(\\Omega)}\\, .\n",
    "    \\end{cases}\n",
    "\\end{equation}\n",
    "\n",
    "The number of singular values retained in this case is $Ru\\_T$."
   ]
  },
  {
   "cell_type": "code",
   "execution_count": null,
   "id": "655874c8",
   "metadata": {},
   "outputs": [],
   "source": [
    "Ru_T = 7\n",
    "ROM_caseT = SUP_ROM(folder, Nu,Nsup,Np,Nnut,Ru_T)\n",
    "ROM_caseT.train_w([400,100],1500,500,1e-5, nn.ReLU) #training of neural network\n",
    "ROM_caseT.solveOnlineT(0.004,501) #solve the dynamical system"
   ]
  },
  {
   "cell_type": "markdown",
   "id": "2749a93b",
   "metadata": {},
   "source": [
    "The *errors* corresponding to each ROM case are here evaluated. This method calculates the percentage errors of the reduced velocity and pressure fields, at each time step, in the $L^2$ norm, with respect to the projected fields and the full order fields."
   ]
  },
  {
   "cell_type": "code",
   "execution_count": null,
   "id": "caad74fd",
   "metadata": {},
   "outputs": [],
   "source": [
    "ROM_cases = [ROM_case, ROM_caseT, ROM_case_stand]\n",
    "for case in ROM_cases:\n",
    "    case.errors()"
   ]
  },
  {
   "cell_type": "markdown",
   "id": "475d1f5a",
   "metadata": {},
   "source": [
    "Below the plots of the errors of the different cases with respect to the full order fields are represented, for both the velocity and the pressure fields."
   ]
  },
  {
   "cell_type": "code",
   "execution_count": null,
   "id": "961a35ee",
   "metadata": {},
   "outputs": [],
   "source": [
    "colors = [\"royalblue\",\"mediumorchid\",\"crimson\",\"lightseagreen\",\"navy\"]\n",
    "markers = [\"o\",\"v\",\"D\",\"p\",\"s\"]\n",
    "figvel2=plt.figure()\n",
    "ax = figvel2.add_subplot(111)\n",
    "plt.plot(ROM_case.errU_full, color=colors[0],marker=markers[0],markersize=5,markevery=50,label=r'Without turbulence term', fillstyle='none')\n",
    "plt.plot(ROM_caseT.errU_full, color=colors[1],marker=markers[1],markersize=5,markevery=50,label=r'With turbulence term', fillstyle='none')\n",
    "plt.plot(ROM_case_stand.errU_full, color=colors[2],marker=markers[2],markersize=5,markevery=50,label=r'Standard system', fillstyle='none')\n",
    "plt.plot(U_err_proj, color=colors[3],marker=markers[3],markersize=5,markevery=50,label=r'Projection', fillstyle='none')\n",
    "plt.ylabel(r'$\\varepsilon_u^{full}$ [$\\%$]')\n",
    "ax.set_xticks([0,125,250,375,500])#,750,1000,1250,1500,1750,2000])\n",
    "ax.set_xticklabels([0,0.5,1,1.5,2])#,3,4,5,6,7,8])\n",
    "ax.set_xlabel('time [s]')\n",
    "plt.legend(bbox_to_anchor=(1.0, 1.0), loc='upper left')\n",
    "plt.xlim(0,500)\n",
    "plt.yscale(\"log\")\n",
    "plt.grid(True, which=\"both\", ls=\"-\")\n",
    "plt.grid()\n",
    "plt.show()\n",
    "figvel2.savefig(\"error_U_PPE.pdf\",bbox_inches='tight')"
   ]
  },
  {
   "cell_type": "code",
   "execution_count": null,
   "id": "4e30d125",
   "metadata": {},
   "outputs": [],
   "source": [
    "figp=plt.figure()\n",
    "ax = figp.add_subplot(111)\n",
    "plt.plot(ROM_case.errP_full, color=colors[0],marker=markers[0],markersize=5,markevery=50,label=r'Without turbulence term', fillstyle='none')\n",
    "plt.plot(ROM_caseT.errP_full, color=colors[1],marker=markers[1],markersize=5,markevery=50,label=r'With turbulence term', fillstyle='none')\n",
    "plt.plot(ROM_case_stand.errP_full, color=colors[2],marker=markers[2],markersize=5,markevery=50,label=r'Standard system', fillstyle='none')\n",
    "plt.plot(P_err_proj, color=colors[3],marker=markers[3],markersize=5,markevery=50,label=r'Projection', fillstyle='none')\n",
    "plt.ylabel(r'$\\varepsilon_p^{full}$ [$\\%$]')\n",
    "ax.set_xticks([0,125,250,375,500])#,750,1000,1250,1500,1750,2000])\n",
    "ax.set_xticklabels([0,0.5,1,1.5,2])#,3,4,5,6,7,8])\n",
    "ax.set_xlabel('time [s]')\n",
    "plt.legend()\n",
    "plt.xlim(0, 500)\n",
    "plt.yscale(\"log\")\n",
    "plt.grid(True, which=\"both\", ls=\"-\")\n",
    "plt.grid()\n",
    "plt.show()\n",
    "figp.savefig(\"error_P_PPE.pdf\",bbox_inches='tight')"
   ]
  }
 ],
 "metadata": {
  "kernelspec": {
   "display_name": "Python 3",
   "language": "python",
   "name": "python3"
  },
  "language_info": {
   "codemirror_mode": {
    "name": "ipython",
    "version": 3
   },
   "file_extension": ".py",
   "mimetype": "text/x-python",
   "name": "python",
   "nbconvert_exporter": "python",
   "pygments_lexer": "ipython3",
   "version": "3.8.8"
  }
 },
 "nbformat": 4,
 "nbformat_minor": 5
}
